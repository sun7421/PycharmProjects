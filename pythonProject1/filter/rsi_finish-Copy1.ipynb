{
 "cells": [
  {
   "cell_type": "code",
   "execution_count": 1,
   "id": "ef4dbf46-a420-4db4-b29a-173da936cac0",
   "metadata": {},
   "outputs": [],
   "source": [
    "import numpy as np#จัดการตัวเลขarray\n",
    "import pandas as pd\n",
    "import yfinance\n",
    "from matplotlib import pyplot as plt\n",
    "import talib\n",
    "import pandas_datareader as web\n",
    "import datetime"
   ]
  },
  {
   "cell_type": "code",
   "execution_count": 2,
   "id": "03356cac-4c29-4152-8330-145ce508f32b",
   "metadata": {},
   "outputs": [
    {
     "data": {
      "text/html": [
       "<div>\n",
       "<style scoped>\n",
       "    .dataframe tbody tr th:only-of-type {\n",
       "        vertical-align: middle;\n",
       "    }\n",
       "\n",
       "    .dataframe tbody tr th {\n",
       "        vertical-align: top;\n",
       "    }\n",
       "\n",
       "    .dataframe thead th {\n",
       "        text-align: right;\n",
       "    }\n",
       "</style>\n",
       "<table border=\"1\" class=\"dataframe\">\n",
       "  <thead>\n",
       "    <tr style=\"text-align: right;\">\n",
       "      <th></th>\n",
       "      <th>Name</th>\n",
       "      <th>rsi</th>\n",
       "      <th>Ema</th>\n",
       "    </tr>\n",
       "  </thead>\n",
       "  <tbody>\n",
       "    <tr>\n",
       "      <th>0</th>\n",
       "      <td>2S</td>\n",
       "      <td>NaN</td>\n",
       "      <td>NaN</td>\n",
       "    </tr>\n",
       "    <tr>\n",
       "      <th>1</th>\n",
       "      <td>3K-BAT</td>\n",
       "      <td>NaN</td>\n",
       "      <td>NaN</td>\n",
       "    </tr>\n",
       "    <tr>\n",
       "      <th>2</th>\n",
       "      <td>7UP</td>\n",
       "      <td>NaN</td>\n",
       "      <td>NaN</td>\n",
       "    </tr>\n",
       "    <tr>\n",
       "      <th>3</th>\n",
       "      <td>A</td>\n",
       "      <td>NaN</td>\n",
       "      <td>NaN</td>\n",
       "    </tr>\n",
       "    <tr>\n",
       "      <th>4</th>\n",
       "      <td>A5</td>\n",
       "      <td>NaN</td>\n",
       "      <td>NaN</td>\n",
       "    </tr>\n",
       "    <tr>\n",
       "      <th>...</th>\n",
       "      <td>...</td>\n",
       "      <td>...</td>\n",
       "      <td>...</td>\n",
       "    </tr>\n",
       "    <tr>\n",
       "      <th>748</th>\n",
       "      <td>YCI</td>\n",
       "      <td>NaN</td>\n",
       "      <td>NaN</td>\n",
       "    </tr>\n",
       "    <tr>\n",
       "      <th>749</th>\n",
       "      <td>YGG</td>\n",
       "      <td>NaN</td>\n",
       "      <td>NaN</td>\n",
       "    </tr>\n",
       "    <tr>\n",
       "      <th>750</th>\n",
       "      <td>YUASA</td>\n",
       "      <td>NaN</td>\n",
       "      <td>NaN</td>\n",
       "    </tr>\n",
       "    <tr>\n",
       "      <th>751</th>\n",
       "      <td>ZEN</td>\n",
       "      <td>NaN</td>\n",
       "      <td>NaN</td>\n",
       "    </tr>\n",
       "    <tr>\n",
       "      <th>752</th>\n",
       "      <td>ZIGA</td>\n",
       "      <td>NaN</td>\n",
       "      <td>NaN</td>\n",
       "    </tr>\n",
       "  </tbody>\n",
       "</table>\n",
       "<p>753 rows × 3 columns</p>\n",
       "</div>"
      ],
      "text/plain": [
       "       Name  rsi  Ema\n",
       "0        2S  NaN  NaN\n",
       "1    3K-BAT  NaN  NaN\n",
       "2       7UP  NaN  NaN\n",
       "3         A  NaN  NaN\n",
       "4        A5  NaN  NaN\n",
       "..      ...  ...  ...\n",
       "748     YCI  NaN  NaN\n",
       "749     YGG  NaN  NaN\n",
       "750   YUASA  NaN  NaN\n",
       "751     ZEN  NaN  NaN\n",
       "752    ZIGA  NaN  NaN\n",
       "\n",
       "[753 rows x 3 columns]"
      ]
     },
     "execution_count": 2,
     "metadata": {},
     "output_type": "execute_result"
    }
   ],
   "source": [
    "data=pd.read_csv('ss.csv')#เลือกหุ้น\n",
    "set_rsi=58\n",
    "x=data\n",
    "x"
   ]
  },
  {
   "cell_type": "code",
   "execution_count": 3,
   "id": "ebd8a668-dca1-4035-8d29-a7f6e9ad8c24",
   "metadata": {},
   "outputs": [
    {
     "data": {
      "text/html": [
       "<div>\n",
       "<style scoped>\n",
       "    .dataframe tbody tr th:only-of-type {\n",
       "        vertical-align: middle;\n",
       "    }\n",
       "\n",
       "    .dataframe tbody tr th {\n",
       "        vertical-align: top;\n",
       "    }\n",
       "\n",
       "    .dataframe thead th {\n",
       "        text-align: right;\n",
       "    }\n",
       "</style>\n",
       "<table border=\"1\" class=\"dataframe\">\n",
       "  <thead>\n",
       "    <tr style=\"text-align: right;\">\n",
       "      <th></th>\n",
       "      <th>rsi</th>\n",
       "    </tr>\n",
       "  </thead>\n",
       "  <tbody>\n",
       "    <tr>\n",
       "      <th>0</th>\n",
       "      <td>NaN</td>\n",
       "    </tr>\n",
       "    <tr>\n",
       "      <th>1</th>\n",
       "      <td>NaN</td>\n",
       "    </tr>\n",
       "    <tr>\n",
       "      <th>2</th>\n",
       "      <td>NaN</td>\n",
       "    </tr>\n",
       "    <tr>\n",
       "      <th>3</th>\n",
       "      <td>NaN</td>\n",
       "    </tr>\n",
       "    <tr>\n",
       "      <th>4</th>\n",
       "      <td>NaN</td>\n",
       "    </tr>\n",
       "    <tr>\n",
       "      <th>...</th>\n",
       "      <td>...</td>\n",
       "    </tr>\n",
       "    <tr>\n",
       "      <th>748</th>\n",
       "      <td>NaN</td>\n",
       "    </tr>\n",
       "    <tr>\n",
       "      <th>749</th>\n",
       "      <td>NaN</td>\n",
       "    </tr>\n",
       "    <tr>\n",
       "      <th>750</th>\n",
       "      <td>NaN</td>\n",
       "    </tr>\n",
       "    <tr>\n",
       "      <th>751</th>\n",
       "      <td>NaN</td>\n",
       "    </tr>\n",
       "    <tr>\n",
       "      <th>752</th>\n",
       "      <td>NaN</td>\n",
       "    </tr>\n",
       "  </tbody>\n",
       "</table>\n",
       "<p>753 rows × 1 columns</p>\n",
       "</div>"
      ],
      "text/plain": [
       "     rsi\n",
       "0    NaN\n",
       "1    NaN\n",
       "2    NaN\n",
       "3    NaN\n",
       "4    NaN\n",
       "..   ...\n",
       "748  NaN\n",
       "749  NaN\n",
       "750  NaN\n",
       "751  NaN\n",
       "752  NaN\n",
       "\n",
       "[753 rows x 1 columns]"
      ]
     },
     "execution_count": 3,
     "metadata": {},
     "output_type": "execute_result"
    }
   ],
   "source": [
    "a=x.iloc[0:,1:2]\n",
    "a"
   ]
  },
  {
   "cell_type": "code",
   "execution_count": 4,
   "id": "7015fc33-aa8d-4d85-af88-30173c05f764",
   "metadata": {},
   "outputs": [
    {
     "data": {
      "text/plain": [
       "nan"
      ]
     },
     "execution_count": 4,
     "metadata": {},
     "output_type": "execute_result"
    }
   ],
   "source": [
    "b=0\n",
    "stock_rsi=a.iloc[b,0]\n",
    "stock_rsi\n"
   ]
  },
  {
   "cell_type": "code",
   "execution_count": 5,
   "id": "025ce3f4-58c1-4fde-b151-f5771a44f3cd",
   "metadata": {},
   "outputs": [
    {
     "name": "stdout",
     "output_type": "stream",
     "text": [
      "[*********************100%***********************]  1 of 1 completed\n",
      "[*********************100%***********************]  1 of 1 completed\n",
      "[*********************100%***********************]  1 of 1 completed\n",
      "[*********************100%***********************]  1 of 1 completed\n",
      "[*********************100%***********************]  1 of 1 completed\n",
      "[*********************100%***********************]  1 of 1 completed\n",
      "[*********************100%***********************]  1 of 1 completed\n",
      "[*********************100%***********************]  1 of 1 completed\n",
      "[*********************100%***********************]  1 of 1 completed\n",
      "[*********************100%***********************]  1 of 1 completed\n",
      "[*********************100%***********************]  1 of 1 completed\n",
      "[*********************100%***********************]  1 of 1 completed\n",
      "[*********************100%***********************]  1 of 1 completed\n",
      "[*********************100%***********************]  1 of 1 completed\n",
      "[*********************100%***********************]  1 of 1 completed\n",
      "[*********************100%***********************]  1 of 1 completed\n",
      "[*********************100%***********************]  1 of 1 completed\n",
      "[*********************100%***********************]  1 of 1 completed\n",
      "[*********************100%***********************]  1 of 1 completed\n",
      "[*********************100%***********************]  1 of 1 completed\n",
      "finish\n"
     ]
    }
   ],
   "source": [
    "i=0\n",
    "e=0\n",
    "while e <20:\n",
    " y=x.iloc[i,0]\n",
    " from datetime import datetime\n",
    " from datetime import timedelta\n",
    " now = datetime.today()\n",
    " duration= timedelta(days=300)\n",
    " start=now-duration\n",
    " s = yfinance.download(y+\".BK\",start,now)\n",
    " rsi = talib.RSI(s[\"Close\"])\n",
    " print_rsi=rsi[-1]\n",
    " stock_rsi=print_rsi\n",
    " if stock_rsi>set_rsi:\n",
    "   x.iloc[i,1:2]=stock_rsi\n",
    "   i+=1\n",
    "   e+=1\n",
    " else  : \n",
    "   x = x.drop(e,axis=0)\n",
    "   x.reset_index(drop=True) # Reset index\n",
    "   e+=1\n",
    "print(\"finish\")    "
   ]
  },
  {
   "cell_type": "code",
   "execution_count": 31,
   "id": "7ec7d0a6-22f5-4096-adc0-4308131f547c",
   "metadata": {},
   "outputs": [],
   "source": [
    "x.to_csv('stock_prices_volumes.csv')"
   ]
  },
  {
   "cell_type": "code",
   "execution_count": null,
   "id": "38aac8b6-5949-488c-8025-577e9d51fab4",
   "metadata": {},
   "outputs": [],
   "source": [
    "#filter code"
   ]
  },
  {
   "cell_type": "code",
   "execution_count": null,
   "id": "37f1b444-7c13-420d-8258-4300689b5393",
   "metadata": {},
   "outputs": [],
   "source": [
    "#Ema"
   ]
  },
  {
   "cell_type": "code",
   "execution_count": null,
   "id": "98664a82-3dcd-46fe-8e57-b771a89467e2",
   "metadata": {},
   "outputs": [],
   "source": [
    "c=0\n",
    "d=x.iloc[0:,2:3]\n",
    "d"
   ]
  },
  {
   "cell_type": "code",
   "execution_count": null,
   "id": "82607ebc-4727-45f2-ad40-e8f4998d7abd",
   "metadata": {},
   "outputs": [],
   "source": [
    "stock_ema=d.iloc[c,0] #first stock in ema\n",
    "stock_ema"
   ]
  },
  {
   "cell_type": "code",
   "execution_count": null,
   "id": "6367bd76-f3ab-4738-a41b-9eea493d0726",
   "metadata": {},
   "outputs": [],
   "source": [
    "end = datetime.today()\n",
    "duration= timedelta(days=365)\n",
    "start=now-duration\n",
    "y"
   ]
  },
  {
   "cell_type": "code",
   "execution_count": null,
   "id": "cc880fc3-8905-48fa-b445-610e6cd90cbf",
   "metadata": {},
   "outputs": [],
   "source": [
    "df = web.DataReader(y+\".BK\", 'yahoo', start, end)\n",
    "df"
   ]
  },
  {
   "cell_type": "code",
   "execution_count": null,
   "id": "dfdc2330-3544-4a7e-9e47-66163f472890",
   "metadata": {},
   "outputs": [],
   "source": [
    "close_array=df.iloc[0:,3:-2]\n",
    "close_array"
   ]
  },
  {
   "cell_type": "code",
   "execution_count": null,
   "id": "0b020641-eb22-406e-92bb-cc01b4fbb1e4",
   "metadata": {},
   "outputs": [],
   "source": [
    "#df.to_csv('stock_prices_volumes.csv')"
   ]
  },
  {
   "cell_type": "code",
   "execution_count": null,
   "id": "158a00ae-d95e-4333-a86b-41cd5f3e35d6",
   "metadata": {},
   "outputs": [],
   "source": [
    "#close_array1=close_array.values.ravel()\n",
    "#close_array1"
   ]
  },
  {
   "cell_type": "code",
   "execution_count": null,
   "id": "6ef0c3a9-0e1a-4391-897f-aea7fdda35e4",
   "metadata": {},
   "outputs": [],
   "source": [
    "close_array['EMA'] = talib.EMA(close_array['Close'], timeperiod =20)"
   ]
  },
  {
   "cell_type": "code",
   "execution_count": null,
   "id": "cdc69a4f-da3c-4c2b-8de2-bd6481d5ad14",
   "metadata": {},
   "outputs": [],
   "source": [
    "close_array"
   ]
  },
  {
   "cell_type": "code",
   "execution_count": null,
   "id": "2f2c6927-b720-459f-8243-26f42934bb24",
   "metadata": {},
   "outputs": [],
   "source": [
    "close_data = close_array.iloc[-1,0]\n",
    "close_data"
   ]
  },
  {
   "cell_type": "code",
   "execution_count": null,
   "id": "c8839af2-b96e-4ae7-82e2-7d54ce025eb6",
   "metadata": {},
   "outputs": [],
   "source": [
    "ema_data0 =close_array.iloc[-1,1]\n",
    "ema_data0"
   ]
  },
  {
   "cell_type": "code",
   "execution_count": null,
   "id": "176f1dd9-19ab-4fdf-9847-3410247a0e09",
   "metadata": {},
   "outputs": [],
   "source": [
    "#emadata50"
   ]
  },
  {
   "cell_type": "code",
   "execution_count": null,
   "id": "7534e635-db2c-4644-b573-9eac439ba649",
   "metadata": {},
   "outputs": [],
   "source": [
    "close_array['EMA'] = talib.EMA(close_array['Close'], timeperiod =50)"
   ]
  },
  {
   "cell_type": "code",
   "execution_count": null,
   "id": "e7031b4c-6943-458a-892a-8ce1a05b79d9",
   "metadata": {},
   "outputs": [],
   "source": [
    "close_array"
   ]
  },
  {
   "cell_type": "code",
   "execution_count": null,
   "id": "8fb3d898-18e7-4cf2-9468-106aa8be33f6",
   "metadata": {},
   "outputs": [],
   "source": [
    "ema_data1 =close_array.iloc[-1,1]\n",
    "ema_data1"
   ]
  },
  {
   "cell_type": "code",
   "execution_count": null,
   "id": "923baeee-76eb-469e-bbd1-5c9998dcc44b",
   "metadata": {},
   "outputs": [],
   "source": [
    "close_array['EMA'] = talib.EMA(close_array['Close'], timeperiod =200)\n",
    "close_array"
   ]
  },
  {
   "cell_type": "code",
   "execution_count": null,
   "id": "93711ccd-472a-41dc-9fbd-3793fc8d96b4",
   "metadata": {},
   "outputs": [],
   "source": [
    "ema_data2 =close_array.iloc[-1,1]\n",
    "ema_data2"
   ]
  },
  {
   "cell_type": "code",
   "execution_count": null,
   "id": "8a415aae-ed6e-4a41-bc14-218416617901",
   "metadata": {},
   "outputs": [],
   "source": [
    "#filter check rsi and ema"
   ]
  },
  {
   "cell_type": "code",
   "execution_count": null,
   "id": "6f420910-45d9-4486-9336-6ce29d565b84",
   "metadata": {},
   "outputs": [],
   "source": [
    "#check close ema > close ema (timeperiod)"
   ]
  },
  {
   "cell_type": "code",
   "execution_count": null,
   "id": "e490eafd-12a8-40bc-98cf-e6a72d62b32e",
   "metadata": {},
   "outputs": [],
   "source": [
    "if close_data>"
   ]
  }
 ],
 "metadata": {
  "kernelspec": {
   "display_name": "Python 3",
   "language": "python",
   "name": "python3"
  },
  "language_info": {
   "codemirror_mode": {
    "name": "ipython",
    "version": 3
   },
   "file_extension": ".py",
   "mimetype": "text/x-python",
   "name": "python",
   "nbconvert_exporter": "python",
   "pygments_lexer": "ipython3",
   "version": "3.8.8"
  }
 },
 "nbformat": 4,
 "nbformat_minor": 5
}
