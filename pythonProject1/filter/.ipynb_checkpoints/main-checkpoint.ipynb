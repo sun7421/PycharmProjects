{
 "cells": [
  {
   "cell_type": "code",
   "execution_count": 2,
   "id": "ef4dbf46-a420-4db4-b29a-173da936cac0",
   "metadata": {},
   "outputs": [],
   "source": [
    "import numpy as np#จัดการตัวเลขarray\n",
    "import pandas as pd\n",
    "import yfinance\n",
    "from matplotlib import pyplot as plt\n",
    "import talib\n",
    "import pandas_datareader as web\n",
    "import datetime\n",
    "from datetime import datetime\n",
    "from datetime import timedelta"
   ]
  },
  {
   "cell_type": "code",
   "execution_count": 3,
   "id": "38aac8b6-5949-488c-8025-577e9d51fab4",
   "metadata": {},
   "outputs": [],
   "source": [
    "#filter code"
   ]
  },
  {
   "cell_type": "code",
   "execution_count": 4,
   "id": "37f1b444-7c13-420d-8258-4300689b5393",
   "metadata": {},
   "outputs": [],
   "source": [
    "#Ema"
   ]
  },
  {
   "cell_type": "code",
   "execution_count": 5,
   "id": "98664a82-3dcd-46fe-8e57-b771a89467e2",
   "metadata": {},
   "outputs": [
    {
     "data": {
      "text/html": [
       "<div>\n",
       "<style scoped>\n",
       "    .dataframe tbody tr th:only-of-type {\n",
       "        vertical-align: middle;\n",
       "    }\n",
       "\n",
       "    .dataframe tbody tr th {\n",
       "        vertical-align: top;\n",
       "    }\n",
       "\n",
       "    .dataframe thead th {\n",
       "        text-align: right;\n",
       "    }\n",
       "</style>\n",
       "<table border=\"1\" class=\"dataframe\">\n",
       "  <thead>\n",
       "    <tr style=\"text-align: right;\">\n",
       "      <th></th>\n",
       "      <th>Name</th>\n",
       "      <th>rsi</th>\n",
       "      <th>Ema</th>\n",
       "    </tr>\n",
       "  </thead>\n",
       "  <tbody>\n",
       "    <tr>\n",
       "      <th>0</th>\n",
       "      <td>7UP</td>\n",
       "      <td>87.205140</td>\n",
       "      <td>NaN</td>\n",
       "    </tr>\n",
       "    <tr>\n",
       "      <th>1</th>\n",
       "      <td>ACAP</td>\n",
       "      <td>85.756776</td>\n",
       "      <td>NaN</td>\n",
       "    </tr>\n",
       "    <tr>\n",
       "      <th>2</th>\n",
       "      <td>ACE</td>\n",
       "      <td>58.659762</td>\n",
       "      <td>NaN</td>\n",
       "    </tr>\n",
       "    <tr>\n",
       "      <th>3</th>\n",
       "      <td>ADD</td>\n",
       "      <td>61.129991</td>\n",
       "      <td>NaN</td>\n",
       "    </tr>\n",
       "    <tr>\n",
       "      <th>4</th>\n",
       "      <td>AHC</td>\n",
       "      <td>65.624428</td>\n",
       "      <td>NaN</td>\n",
       "    </tr>\n",
       "    <tr>\n",
       "      <th>...</th>\n",
       "      <td>...</td>\n",
       "      <td>...</td>\n",
       "      <td>...</td>\n",
       "    </tr>\n",
       "    <tr>\n",
       "      <th>99</th>\n",
       "      <td>VNG</td>\n",
       "      <td>61.681213</td>\n",
       "      <td>NaN</td>\n",
       "    </tr>\n",
       "    <tr>\n",
       "      <th>100</th>\n",
       "      <td>WIN</td>\n",
       "      <td>67.562968</td>\n",
       "      <td>NaN</td>\n",
       "    </tr>\n",
       "    <tr>\n",
       "      <th>101</th>\n",
       "      <td>WINMED</td>\n",
       "      <td>61.386980</td>\n",
       "      <td>NaN</td>\n",
       "    </tr>\n",
       "    <tr>\n",
       "      <th>102</th>\n",
       "      <td>WINNER</td>\n",
       "      <td>75.744932</td>\n",
       "      <td>NaN</td>\n",
       "    </tr>\n",
       "    <tr>\n",
       "      <th>103</th>\n",
       "      <td>WPH</td>\n",
       "      <td>62.356704</td>\n",
       "      <td>NaN</td>\n",
       "    </tr>\n",
       "  </tbody>\n",
       "</table>\n",
       "<p>104 rows × 3 columns</p>\n",
       "</div>"
      ],
      "text/plain": [
       "       Name        rsi  Ema\n",
       "0       7UP  87.205140  NaN\n",
       "1      ACAP  85.756776  NaN\n",
       "2       ACE  58.659762  NaN\n",
       "3       ADD  61.129991  NaN\n",
       "4       AHC  65.624428  NaN\n",
       "..      ...        ...  ...\n",
       "99      VNG  61.681213  NaN\n",
       "100     WIN  67.562968  NaN\n",
       "101  WINMED  61.386980  NaN\n",
       "102  WINNER  75.744932  NaN\n",
       "103     WPH  62.356704  NaN\n",
       "\n",
       "[104 rows x 3 columns]"
      ]
     },
     "execution_count": 5,
     "metadata": {},
     "output_type": "execute_result"
    }
   ],
   "source": [
    "x=pd.read_csv('stock_prices_volumes.csv')#เลือกหุ้น\n",
    "x=x.iloc[0:,1:]\n",
    "x"
   ]
  },
  {
   "cell_type": "code",
   "execution_count": 6,
   "id": "82607ebc-4727-45f2-ad40-e8f4998d7abd",
   "metadata": {},
   "outputs": [
    {
     "data": {
      "text/plain": [
       "nan"
      ]
     },
     "execution_count": 6,
     "metadata": {},
     "output_type": "execute_result"
    }
   ],
   "source": [
    "stock_ema=x.iloc[0,2] #first stock in ema\n",
    "stock_ema"
   ]
  },
  {
   "cell_type": "code",
   "execution_count": 7,
   "id": "69a428b0-32db-4600-a54b-bece90a38a57",
   "metadata": {},
   "outputs": [],
   "source": [
    "#เทสEMA20"
   ]
  },
  {
   "cell_type": "code",
   "execution_count": 8,
   "id": "4b6950de-1248-47cf-b948-2e0df3a07942",
   "metadata": {},
   "outputs": [
    {
     "data": {
      "text/plain": [
       "nan"
      ]
     },
     "execution_count": 8,
     "metadata": {},
     "output_type": "execute_result"
    }
   ],
   "source": [
    " number=x.shape[0]\n",
    " y=x.iloc[0,2]\n",
    "y\n"
   ]
  },
  {
   "cell_type": "code",
   "execution_count": 9,
   "id": "06fbbf73-42b9-4ce2-a1b0-4d457086fb17",
   "metadata": {},
   "outputs": [
    {
     "name": "stdout",
     "output_type": "stream",
     "text": [
      "finish\n"
     ]
    }
   ],
   "source": [
    "i=0\n",
    "e=0\n",
    "while e <number:\n",
    "  y=x.iloc[i,0]\n",
    "  end = datetime.today()\n",
    "  duration= timedelta(days=365)\n",
    "  start=end-duration\n",
    "  s = web.DataReader(y+\".BK\", 'yahoo', start, end)\n",
    "  close_array=s.iloc[0:,3:-2]\n",
    "  close_array['EMA'] = talib.EMA(close_array['Close'], timeperiod =20)\n",
    "  close_data = close_array.iloc[-1,0]\n",
    "  ema_data0 =close_array.iloc[-1,1]\n",
    "  stock_ema = ema_data0\n",
    "  if close_data > ema_data0 :\n",
    "   x.iloc[i,2]=stock_ema\n",
    "   i+=1\n",
    "   e+=1\n",
    "  else  : \n",
    "   x = x.drop(e,axis=0)\n",
    "   x.reset_index(drop=True) # Reset index\n",
    "   e+=1\n",
    "print(\"finish\")       "
   ]
  },
  {
   "cell_type": "code",
   "execution_count": 10,
   "id": "87e43241-27fc-4e6f-b2f4-47c6f56f5bda",
   "metadata": {},
   "outputs": [
    {
     "data": {
      "text/html": [
       "<div>\n",
       "<style scoped>\n",
       "    .dataframe tbody tr th:only-of-type {\n",
       "        vertical-align: middle;\n",
       "    }\n",
       "\n",
       "    .dataframe tbody tr th {\n",
       "        vertical-align: top;\n",
       "    }\n",
       "\n",
       "    .dataframe thead th {\n",
       "        text-align: right;\n",
       "    }\n",
       "</style>\n",
       "<table border=\"1\" class=\"dataframe\">\n",
       "  <thead>\n",
       "    <tr style=\"text-align: right;\">\n",
       "      <th></th>\n",
       "      <th>Name</th>\n",
       "      <th>rsi</th>\n",
       "      <th>Ema</th>\n",
       "    </tr>\n",
       "  </thead>\n",
       "  <tbody>\n",
       "    <tr>\n",
       "      <th>0</th>\n",
       "      <td>7UP</td>\n",
       "      <td>87.205140</td>\n",
       "      <td>2.208734</td>\n",
       "    </tr>\n",
       "    <tr>\n",
       "      <th>1</th>\n",
       "      <td>ACAP</td>\n",
       "      <td>85.756776</td>\n",
       "      <td>1.174774</td>\n",
       "    </tr>\n",
       "    <tr>\n",
       "      <th>2</th>\n",
       "      <td>ACE</td>\n",
       "      <td>58.659762</td>\n",
       "      <td>3.808256</td>\n",
       "    </tr>\n",
       "    <tr>\n",
       "      <th>4</th>\n",
       "      <td>AHC</td>\n",
       "      <td>65.624428</td>\n",
       "      <td>14.098030</td>\n",
       "    </tr>\n",
       "    <tr>\n",
       "      <th>5</th>\n",
       "      <td>AKP</td>\n",
       "      <td>67.176484</td>\n",
       "      <td>2.046808</td>\n",
       "    </tr>\n",
       "    <tr>\n",
       "      <th>...</th>\n",
       "      <td>...</td>\n",
       "      <td>...</td>\n",
       "      <td>...</td>\n",
       "    </tr>\n",
       "    <tr>\n",
       "      <th>99</th>\n",
       "      <td>VNG</td>\n",
       "      <td>61.681213</td>\n",
       "      <td>7.331348</td>\n",
       "    </tr>\n",
       "    <tr>\n",
       "      <th>100</th>\n",
       "      <td>WIN</td>\n",
       "      <td>67.562968</td>\n",
       "      <td>0.721287</td>\n",
       "    </tr>\n",
       "    <tr>\n",
       "      <th>101</th>\n",
       "      <td>WINMED</td>\n",
       "      <td>61.386980</td>\n",
       "      <td>6.546572</td>\n",
       "    </tr>\n",
       "    <tr>\n",
       "      <th>102</th>\n",
       "      <td>WINNER</td>\n",
       "      <td>75.744932</td>\n",
       "      <td>3.156126</td>\n",
       "    </tr>\n",
       "    <tr>\n",
       "      <th>103</th>\n",
       "      <td>WPH</td>\n",
       "      <td>62.356704</td>\n",
       "      <td>2.181230</td>\n",
       "    </tr>\n",
       "  </tbody>\n",
       "</table>\n",
       "<p>98 rows × 3 columns</p>\n",
       "</div>"
      ],
      "text/plain": [
       "       Name        rsi        Ema\n",
       "0       7UP  87.205140   2.208734\n",
       "1      ACAP  85.756776   1.174774\n",
       "2       ACE  58.659762   3.808256\n",
       "4       AHC  65.624428  14.098030\n",
       "5       AKP  67.176484   2.046808\n",
       "..      ...        ...        ...\n",
       "99      VNG  61.681213   7.331348\n",
       "100     WIN  67.562968   0.721287\n",
       "101  WINMED  61.386980   6.546572\n",
       "102  WINNER  75.744932   3.156126\n",
       "103     WPH  62.356704   2.181230\n",
       "\n",
       "[98 rows x 3 columns]"
      ]
     },
     "execution_count": 10,
     "metadata": {},
     "output_type": "execute_result"
    }
   ],
   "source": [
    "#x.to_csv('EMA20.csv')\n",
    "x"
   ]
  },
  {
   "cell_type": "code",
   "execution_count": null,
   "id": "cf31c55c-b43e-445b-94f7-bd1f0a9540e4",
   "metadata": {},
   "outputs": [],
   "source": []
  },
  {
   "cell_type": "code",
   "execution_count": null,
   "id": "176f1dd9-19ab-4fdf-9847-3410247a0e09",
   "metadata": {},
   "outputs": [],
   "source": [
    "#emadata50"
   ]
  },
  {
   "cell_type": "code",
   "execution_count": null,
   "id": "7534e635-db2c-4644-b573-9eac439ba649",
   "metadata": {},
   "outputs": [],
   "source": [
    "close_array['EMA'] = talib.EMA(close_array['Close'], timeperiod =50)"
   ]
  },
  {
   "cell_type": "code",
   "execution_count": null,
   "id": "e7031b4c-6943-458a-892a-8ce1a05b79d9",
   "metadata": {},
   "outputs": [],
   "source": [
    "close_array"
   ]
  },
  {
   "cell_type": "code",
   "execution_count": null,
   "id": "8fb3d898-18e7-4cf2-9468-106aa8be33f6",
   "metadata": {},
   "outputs": [],
   "source": [
    "ema_data1 =close_array.iloc[-1,1]\n",
    "ema_data1"
   ]
  },
  {
   "cell_type": "code",
   "execution_count": null,
   "id": "923baeee-76eb-469e-bbd1-5c9998dcc44b",
   "metadata": {},
   "outputs": [],
   "source": [
    "close_array['EMA'] = talib.EMA(close_array['Close'], timeperiod =200)\n",
    "close_array"
   ]
  },
  {
   "cell_type": "code",
   "execution_count": null,
   "id": "93711ccd-472a-41dc-9fbd-3793fc8d96b4",
   "metadata": {},
   "outputs": [],
   "source": [
    "ema_data2 =close_array.iloc[-1,1]\n",
    "ema_data2"
   ]
  },
  {
   "cell_type": "code",
   "execution_count": null,
   "id": "8a415aae-ed6e-4a41-bc14-218416617901",
   "metadata": {},
   "outputs": [],
   "source": [
    "#filter check rsi and ema"
   ]
  },
  {
   "cell_type": "code",
   "execution_count": null,
   "id": "6f420910-45d9-4486-9336-6ce29d565b84",
   "metadata": {},
   "outputs": [],
   "source": [
    "#check close ema > close ema (timeperiod)"
   ]
  },
  {
   "cell_type": "code",
   "execution_count": null,
   "id": "e490eafd-12a8-40bc-98cf-e6a72d62b32e",
   "metadata": {},
   "outputs": [],
   "source": [
    "if close_data>"
   ]
  }
 ],
 "metadata": {
  "kernelspec": {
   "display_name": "Python 3",
   "language": "python",
   "name": "python3"
  },
  "language_info": {
   "codemirror_mode": {
    "name": "ipython",
    "version": 3
   },
   "file_extension": ".py",
   "mimetype": "text/x-python",
   "name": "python",
   "nbconvert_exporter": "python",
   "pygments_lexer": "ipython3",
   "version": "3.8.8"
  }
 },
 "nbformat": 4,
 "nbformat_minor": 5
}
