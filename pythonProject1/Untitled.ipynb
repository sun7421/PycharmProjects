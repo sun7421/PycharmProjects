{
 "cells": [
  {
   "cell_type": "code",
   "execution_count": 3,
   "id": "5e6206c4-0a5b-43d1-b96b-43724c4b92bb",
   "metadata": {},
   "outputs": [],
   "source": [
    "#https://stackpython.co/tutorial/web-scraping-python-beautifulsoup-requests\n",
    "from bs4 import BeautifulSoup\n"
    "import requests\n"
   ]
  },
  {
   "cell_type": "code",
   "execution_count": 5,
   "id": "918582f8-9775-4b22-93eb-fc7e9003d934",
   "metadata": {},
   "outputs": [
    {
     "name": "stdout",
     "output_type": "stream",
     "text": [
      "<Response [200]>\n"
     ]
    }
   ],
   "source": [
    "url = \"http://siamchart.com/stock/\"\n",
    "\n",
    "res = requests.get(url)\n",
    "res.encoding = \"utf-8\"\n",
    "print(res)"
   ]
  },
  {
   "cell_type": "code",
   "execution_count": 6,
   "id": "301e37aa-cd73-4119-8fa4-2f189fe6d948",
   "metadata": {},
   "outputs": [
    {
     "name": "stdout",
     "output_type": "stream",
     "text": [
      "Successful\n"
     ]
    }
   ],
   "source": [
    "if res.status_code == 200:\n",
    "    print(\"Successful\")\n",
    "elif res.status_code == 404:\n",
    "    print(\"Error 404 page not found\")\n",
    "else:\n",
    "    print(\"Not both 200 and 404\")"
   ]
  },
  {
   "cell_type": "code",
   "execution_count": null,
   "id": "65bfc946-3e1d-4337-abc1-d096a500321f",
   "metadata": {},
   "outputs": [],
   "source": [
    " # soup = BeautifulSoup(res.text)\n",
    " soup = BeautifulSoup(res.text, 'html.parser')\n",
    " print(soup)"
   ]
  },
  {
   "cell_type": "code",
   "execution_count": null,
   "id": "172d1ace-d32d-4035-9002-ae52babdd676",
   "metadata": {},
   "outputs": [],
   "source": [
    "# ทำให้ข้อมูลเป็นระเบียบ ดูง่าย ด้วยคำสั่ง prettify()\n",
    "print(soup.prettify())"
   ]
  },
  {
   "cell_type": "code",
   "execution_count": 10,
   "id": "9e636c1f-1dc2-4eb0-9d76-0243048464ac",
   "metadata": {},
   "outputs": [
    {
     "data": {
      "text/plain": [
       "<title>Thai Stock Chart List [����������·����� �������ҿ����������ͧ��ͪ�������������� ��ФѴ��ͧ���] - SiamChart</title>"
      ]
     },
     "execution_count": 10,
     "metadata": {},
     "output_type": "execute_result"
    }
   ],
   "source": [
    "soup.title"
   ]
  },
  {
   "cell_type": "code",
   "execution_count": 11,
   "id": "bb236354-9b6b-4f05-8306-4e1d7437531b",
   "metadata": {},
   "outputs": [],
   "source": [
    "soup.p"
   ]
  },
  {
   "cell_type": "code",
   "execution_count": 12,
   "id": "e0802059-1d16-4647-9d54-cf7c8f494f28",
   "metadata": {},
   "outputs": [
    {
     "data": {
      "text/plain": [
       "'Thai Stock Chart List [����������·����� �������ҿ����������ͧ��ͪ�������������� ��ФѴ��ͧ���] - SiamChart'"
      ]
     },
     "execution_count": 12,
     "metadata": {},
     "output_type": "execute_result"
    }
   ],
   "source": [
    "soup.title.string"
   ]
  },
  {
   "cell_type": "code",
   "execution_count": null,
   "id": "6a38037c-e0c9-481d-b99c-9f3201bb856e",
   "metadata": {},
   "outputs": [],
   "source": []
  }
 ],
 "metadata": {
  "kernelspec": {
   "display_name": "Python 3",
   "language": "python",
   "name": "python3"
  },
  "language_info": {
   "codemirror_mode": {
    "name": "ipython",
    "version": 3
   },
   "file_extension": ".py",
   "mimetype": "text/x-python",
   "name": "python",
   "nbconvert_exporter": "python",
   "pygments_lexer": "ipython3",
   "version": "3.8.8"
  }
 },
 "nbformat": 4,
 "nbformat_minor": 5
}
