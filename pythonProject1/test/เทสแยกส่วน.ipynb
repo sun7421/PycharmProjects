{
 "cells": [
  {
   "cell_type": "code",
   "execution_count": 2,
   "id": "00bcab2c-a1ac-4643-aea7-98a5fb84504b",
   "metadata": {},
   "outputs": [],
   "source": [
    "import numpy as np#จัดการตัวเลขarray"
   ]
  },
  {
   "cell_type": "code",
   "execution_count": 3,
   "id": "e22c0b47-8eae-4440-82c2-d554af2d12d0",
   "metadata": {},
   "outputs": [],
   "source": [
    "import pandas as pd\n",
    "import yfinance\n",
    "from matplotlib import pyplot as plt"
   ]
  },
  {
   "cell_type": "code",
   "execution_count": 4,
   "id": "f8f7c6dc-35e9-4063-b613-c22e16cac72d",
   "metadata": {},
   "outputs": [],
   "source": [
    "import talib\n",
    "import pandas_datareader as web\n",
    "import datetime"
   ]
  },
  {
   "cell_type": "code",
   "execution_count": 5,
   "id": "5ba9b33d-1bfc-4c93-bb19-4876d1f302b5",
   "metadata": {},
   "outputs": [
    {
     "data": {
      "text/html": [
       "<div>\n",
       "<style scoped>\n",
       "    .dataframe tbody tr th:only-of-type {\n",
       "        vertical-align: middle;\n",
       "    }\n",
       "\n",
       "    .dataframe tbody tr th {\n",
       "        vertical-align: top;\n",
       "    }\n",
       "\n",
       "    .dataframe thead th {\n",
       "        text-align: right;\n",
       "    }\n",
       "</style>\n",
       "<table border=\"1\" class=\"dataframe\">\n",
       "  <thead>\n",
       "    <tr style=\"text-align: right;\">\n",
       "      <th></th>\n",
       "      <th>Name</th>\n",
       "      <th>rsi</th>\n",
       "      <th>Ema</th>\n",
       "    </tr>\n",
       "  </thead>\n",
       "  <tbody>\n",
       "    <tr>\n",
       "      <th>0</th>\n",
       "      <td>2S</td>\n",
       "      <td>NaN</td>\n",
       "      <td>NaN</td>\n",
       "    </tr>\n",
       "    <tr>\n",
       "      <th>1</th>\n",
       "      <td>3K-BAT</td>\n",
       "      <td>NaN</td>\n",
       "      <td>NaN</td>\n",
       "    </tr>\n",
       "    <tr>\n",
       "      <th>2</th>\n",
       "      <td>7UP</td>\n",
       "      <td>NaN</td>\n",
       "      <td>NaN</td>\n",
       "    </tr>\n",
       "    <tr>\n",
       "      <th>3</th>\n",
       "      <td>A</td>\n",
       "      <td>NaN</td>\n",
       "      <td>NaN</td>\n",
       "    </tr>\n",
       "    <tr>\n",
       "      <th>4</th>\n",
       "      <td>A5</td>\n",
       "      <td>NaN</td>\n",
       "      <td>NaN</td>\n",
       "    </tr>\n",
       "    <tr>\n",
       "      <th>...</th>\n",
       "      <td>...</td>\n",
       "      <td>...</td>\n",
       "      <td>...</td>\n",
       "    </tr>\n",
       "    <tr>\n",
       "      <th>748</th>\n",
       "      <td>YCI</td>\n",
       "      <td>NaN</td>\n",
       "      <td>NaN</td>\n",
       "    </tr>\n",
       "    <tr>\n",
       "      <th>749</th>\n",
       "      <td>YGG</td>\n",
       "      <td>NaN</td>\n",
       "      <td>NaN</td>\n",
       "    </tr>\n",
       "    <tr>\n",
       "      <th>750</th>\n",
       "      <td>YUASA</td>\n",
       "      <td>NaN</td>\n",
       "      <td>NaN</td>\n",
       "    </tr>\n",
       "    <tr>\n",
       "      <th>751</th>\n",
       "      <td>ZEN</td>\n",
       "      <td>NaN</td>\n",
       "      <td>NaN</td>\n",
       "    </tr>\n",
       "    <tr>\n",
       "      <th>752</th>\n",
       "      <td>ZIGA</td>\n",
       "      <td>NaN</td>\n",
       "      <td>NaN</td>\n",
       "    </tr>\n",
       "  </tbody>\n",
       "</table>\n",
       "<p>753 rows × 3 columns</p>\n",
       "</div>"
      ],
      "text/plain": [
       "       Name  rsi  Ema\n",
       "0        2S  NaN  NaN\n",
       "1    3K-BAT  NaN  NaN\n",
       "2       7UP  NaN  NaN\n",
       "3         A  NaN  NaN\n",
       "4        A5  NaN  NaN\n",
       "..      ...  ...  ...\n",
       "748     YCI  NaN  NaN\n",
       "749     YGG  NaN  NaN\n",
       "750   YUASA  NaN  NaN\n",
       "751     ZEN  NaN  NaN\n",
       "752    ZIGA  NaN  NaN\n",
       "\n",
       "[753 rows x 3 columns]"
      ]
     },
     "execution_count": 5,
     "metadata": {},
     "output_type": "execute_result"
    }
   ],
   "source": [
    "data=pd.read_csv('ss.csv')#เลือกหุ้น\n",
    "set_rsi=58\n",
    "x=data\n",
    "x\n",
    "                "
   ]
  },
  {
   "cell_type": "code",
   "execution_count": 6,
   "id": "6712b7da-43a8-40b8-831e-7814b70fb0ef",
   "metadata": {},
   "outputs": [
    {
     "data": {
      "text/html": [
       "<div>\n",
       "<style scoped>\n",
       "    .dataframe tbody tr th:only-of-type {\n",
       "        vertical-align: middle;\n",
       "    }\n",
       "\n",
       "    .dataframe tbody tr th {\n",
       "        vertical-align: top;\n",
       "    }\n",
       "\n",
       "    .dataframe thead th {\n",
       "        text-align: right;\n",
       "    }\n",
       "</style>\n",
       "<table border=\"1\" class=\"dataframe\">\n",
       "  <thead>\n",
       "    <tr style=\"text-align: right;\">\n",
       "      <th></th>\n",
       "      <th>rsi</th>\n",
       "    </tr>\n",
       "  </thead>\n",
       "  <tbody>\n",
       "    <tr>\n",
       "      <th>0</th>\n",
       "      <td>NaN</td>\n",
       "    </tr>\n",
       "    <tr>\n",
       "      <th>1</th>\n",
       "      <td>NaN</td>\n",
       "    </tr>\n",
       "    <tr>\n",
       "      <th>2</th>\n",
       "      <td>NaN</td>\n",
       "    </tr>\n",
       "    <tr>\n",
       "      <th>3</th>\n",
       "      <td>NaN</td>\n",
       "    </tr>\n",
       "    <tr>\n",
       "      <th>4</th>\n",
       "      <td>NaN</td>\n",
       "    </tr>\n",
       "    <tr>\n",
       "      <th>...</th>\n",
       "      <td>...</td>\n",
       "    </tr>\n",
       "    <tr>\n",
       "      <th>748</th>\n",
       "      <td>NaN</td>\n",
       "    </tr>\n",
       "    <tr>\n",
       "      <th>749</th>\n",
       "      <td>NaN</td>\n",
       "    </tr>\n",
       "    <tr>\n",
       "      <th>750</th>\n",
       "      <td>NaN</td>\n",
       "    </tr>\n",
       "    <tr>\n",
       "      <th>751</th>\n",
       "      <td>NaN</td>\n",
       "    </tr>\n",
       "    <tr>\n",
       "      <th>752</th>\n",
       "      <td>NaN</td>\n",
       "    </tr>\n",
       "  </tbody>\n",
       "</table>\n",
       "<p>753 rows × 1 columns</p>\n",
       "</div>"
      ],
      "text/plain": [
       "     rsi\n",
       "0    NaN\n",
       "1    NaN\n",
       "2    NaN\n",
       "3    NaN\n",
       "4    NaN\n",
       "..   ...\n",
       "748  NaN\n",
       "749  NaN\n",
       "750  NaN\n",
       "751  NaN\n",
       "752  NaN\n",
       "\n",
       "[753 rows x 1 columns]"
      ]
     },
     "execution_count": 6,
     "metadata": {},
     "output_type": "execute_result"
    }
   ],
   "source": [
    "b=0\n",
    "a=data.iloc[0:,1:2]\n",
    "a"
   ]
  },
  {
   "cell_type": "code",
   "execution_count": 7,
   "id": "9b5f96f3-c689-4bd9-93ba-81fedd7207d6",
   "metadata": {},
   "outputs": [
    {
     "data": {
      "text/plain": [
       "nan"
      ]
     },
     "execution_count": 7,
     "metadata": {},
     "output_type": "execute_result"
    }
   ],
   "source": [
    "stock_rsi=a.iloc[b,0]\n",
    "stock_rsi"
   ]
  },
  {
   "cell_type": "code",
   "execution_count": 8,
   "id": "88a67c18-f879-411d-b823-b92de46de351",
   "metadata": {},
   "outputs": [
    {
     "data": {
      "text/plain": [
       "'2S'"
      ]
     },
     "execution_count": 8,
     "metadata": {},
     "output_type": "execute_result"
    }
   ],
   "source": [
    "i=0\n",
    "y=x.iloc[i,0]\n",
    "y"
   ]
  },
  {
   "cell_type": "code",
   "execution_count": 9,
   "id": "98917fa3-55fc-407d-96ab-e0255894cf0e",
   "metadata": {},
   "outputs": [],
   "source": [
    "from datetime import datetime\n",
    "from datetime import timedelta\n",
    "now = datetime.today()\n",
    "duration= timedelta(days=300)\n",
    "start=now-duration"
   ]
  },
  {
   "cell_type": "code",
   "execution_count": 10,
   "id": "697507fe-44f7-455e-938f-24065b3eb4fc",
   "metadata": {},
   "outputs": [
    {
     "name": "stdout",
     "output_type": "stream",
     "text": [
      "[*********************100%***********************]  1 of 1 completed\n"
     ]
    },
    {
     "data": {
      "text/plain": [
       "Date\n",
       "2020-09-23          NaN\n",
       "2020-09-24          NaN\n",
       "2020-09-25          NaN\n",
       "2020-09-28          NaN\n",
       "2020-09-29          NaN\n",
       "                ...    \n",
       "2021-07-13    42.021211\n",
       "2021-07-14    45.081355\n",
       "2021-07-15    50.687316\n",
       "2021-07-16    53.256538\n",
       "2021-07-19    45.583620\n",
       "Length: 197, dtype: float64"
      ]
     },
     "execution_count": 10,
     "metadata": {},
     "output_type": "execute_result"
    }
   ],
   "source": [
    "\n",
    "s = yfinance.download(y+\".BK\",start,now)\n",
    "rsi = talib.RSI(s[\"Close\"])\n",
    "rsi"
   ]
  },
  {
   "cell_type": "code",
   "execution_count": 11,
   "id": "c16e08dc-31d7-4aca-9a40-d3f1194b3919",
   "metadata": {},
   "outputs": [
    {
     "data": {
      "text/plain": [
       "45.58362014539543"
      ]
     },
     "execution_count": 11,
     "metadata": {},
     "output_type": "execute_result"
    }
   ],
   "source": [
    "print_rsi=rsi[-1]\n",
    "stock_rsi=print_rsi\n",
    "stock_rsi"
   ]
  },
  {
   "cell_type": "code",
   "execution_count": 12,
   "id": "b0687539-5fe1-41c3-9b16-2ad7550deacd",
   "metadata": {},
   "outputs": [
    {
     "data": {
      "text/html": [
       "<div>\n",
       "<style scoped>\n",
       "    .dataframe tbody tr th:only-of-type {\n",
       "        vertical-align: middle;\n",
       "    }\n",
       "\n",
       "    .dataframe tbody tr th {\n",
       "        vertical-align: top;\n",
       "    }\n",
       "\n",
       "    .dataframe thead th {\n",
       "        text-align: right;\n",
       "    }\n",
       "</style>\n",
       "<table border=\"1\" class=\"dataframe\">\n",
       "  <thead>\n",
       "    <tr style=\"text-align: right;\">\n",
       "      <th></th>\n",
       "      <th>Name</th>\n",
       "      <th>rsi</th>\n",
       "      <th>Ema</th>\n",
       "    </tr>\n",
       "  </thead>\n",
       "  <tbody>\n",
       "    <tr>\n",
       "      <th>1</th>\n",
       "      <td>3K-BAT</td>\n",
       "      <td>NaN</td>\n",
       "      <td>NaN</td>\n",
       "    </tr>\n",
       "    <tr>\n",
       "      <th>2</th>\n",
       "      <td>7UP</td>\n",
       "      <td>NaN</td>\n",
       "      <td>NaN</td>\n",
       "    </tr>\n",
       "    <tr>\n",
       "      <th>3</th>\n",
       "      <td>A</td>\n",
       "      <td>NaN</td>\n",
       "      <td>NaN</td>\n",
       "    </tr>\n",
       "    <tr>\n",
       "      <th>4</th>\n",
       "      <td>A5</td>\n",
       "      <td>NaN</td>\n",
       "      <td>NaN</td>\n",
       "    </tr>\n",
       "    <tr>\n",
       "      <th>5</th>\n",
       "      <td>AAV</td>\n",
       "      <td>NaN</td>\n",
       "      <td>NaN</td>\n",
       "    </tr>\n",
       "    <tr>\n",
       "      <th>...</th>\n",
       "      <td>...</td>\n",
       "      <td>...</td>\n",
       "      <td>...</td>\n",
       "    </tr>\n",
       "    <tr>\n",
       "      <th>748</th>\n",
       "      <td>YCI</td>\n",
       "      <td>NaN</td>\n",
       "      <td>NaN</td>\n",
       "    </tr>\n",
       "    <tr>\n",
       "      <th>749</th>\n",
       "      <td>YGG</td>\n",
       "      <td>NaN</td>\n",
       "      <td>NaN</td>\n",
       "    </tr>\n",
       "    <tr>\n",
       "      <th>750</th>\n",
       "      <td>YUASA</td>\n",
       "      <td>NaN</td>\n",
       "      <td>NaN</td>\n",
       "    </tr>\n",
       "    <tr>\n",
       "      <th>751</th>\n",
       "      <td>ZEN</td>\n",
       "      <td>NaN</td>\n",
       "      <td>NaN</td>\n",
       "    </tr>\n",
       "    <tr>\n",
       "      <th>752</th>\n",
       "      <td>ZIGA</td>\n",
       "      <td>NaN</td>\n",
       "      <td>NaN</td>\n",
       "    </tr>\n",
       "  </tbody>\n",
       "</table>\n",
       "<p>752 rows × 3 columns</p>\n",
       "</div>"
      ],
      "text/plain": [
       "       Name  rsi  Ema\n",
       "1    3K-BAT  NaN  NaN\n",
       "2       7UP  NaN  NaN\n",
       "3         A  NaN  NaN\n",
       "4        A5  NaN  NaN\n",
       "5       AAV  NaN  NaN\n",
       "..      ...  ...  ...\n",
       "748     YCI  NaN  NaN\n",
       "749     YGG  NaN  NaN\n",
       "750   YUASA  NaN  NaN\n",
       "751     ZEN  NaN  NaN\n",
       "752    ZIGA  NaN  NaN\n",
       "\n",
       "[752 rows x 3 columns]"
      ]
     },
     "execution_count": 12,
     "metadata": {},
     "output_type": "execute_result"
    }
   ],
   "source": [
    "#x=data\n",
    "if stock_rsi<set_rsi:\n",
    "   x = x.drop(0, axis=0)\n",
    "   x.reset_index(drop=True) # Reset index\n",
    "x"
   ]
  },
  {
   "cell_type": "code",
   "execution_count": 13,
   "id": "37f1b444-7c13-420d-8258-4300689b5393",
   "metadata": {},
   "outputs": [],
   "source": [
    "#Ema"
   ]
  },
  {
   "cell_type": "code",
   "execution_count": 14,
   "id": "98664a82-3dcd-46fe-8e57-b771a89467e2",
   "metadata": {},
   "outputs": [
    {
     "data": {
      "text/html": [
       "<div>\n",
       "<style scoped>\n",
       "    .dataframe tbody tr th:only-of-type {\n",
       "        vertical-align: middle;\n",
       "    }\n",
       "\n",
       "    .dataframe tbody tr th {\n",
       "        vertical-align: top;\n",
       "    }\n",
       "\n",
       "    .dataframe thead th {\n",
       "        text-align: right;\n",
       "    }\n",
       "</style>\n",
       "<table border=\"1\" class=\"dataframe\">\n",
       "  <thead>\n",
       "    <tr style=\"text-align: right;\">\n",
       "      <th></th>\n",
       "      <th>Ema</th>\n",
       "    </tr>\n",
       "  </thead>\n",
       "  <tbody>\n",
       "    <tr>\n",
       "      <th>1</th>\n",
       "      <td>NaN</td>\n",
       "    </tr>\n",
       "    <tr>\n",
       "      <th>2</th>\n",
       "      <td>NaN</td>\n",
       "    </tr>\n",
       "    <tr>\n",
       "      <th>3</th>\n",
       "      <td>NaN</td>\n",
       "    </tr>\n",
       "    <tr>\n",
       "      <th>4</th>\n",
       "      <td>NaN</td>\n",
       "    </tr>\n",
       "    <tr>\n",
       "      <th>5</th>\n",
       "      <td>NaN</td>\n",
       "    </tr>\n",
       "    <tr>\n",
       "      <th>...</th>\n",
       "      <td>...</td>\n",
       "    </tr>\n",
       "    <tr>\n",
       "      <th>748</th>\n",
       "      <td>NaN</td>\n",
       "    </tr>\n",
       "    <tr>\n",
       "      <th>749</th>\n",
       "      <td>NaN</td>\n",
       "    </tr>\n",
       "    <tr>\n",
       "      <th>750</th>\n",
       "      <td>NaN</td>\n",
       "    </tr>\n",
       "    <tr>\n",
       "      <th>751</th>\n",
       "      <td>NaN</td>\n",
       "    </tr>\n",
       "    <tr>\n",
       "      <th>752</th>\n",
       "      <td>NaN</td>\n",
       "    </tr>\n",
       "  </tbody>\n",
       "</table>\n",
       "<p>752 rows × 1 columns</p>\n",
       "</div>"
      ],
      "text/plain": [
       "     Ema\n",
       "1    NaN\n",
       "2    NaN\n",
       "3    NaN\n",
       "4    NaN\n",
       "5    NaN\n",
       "..   ...\n",
       "748  NaN\n",
       "749  NaN\n",
       "750  NaN\n",
       "751  NaN\n",
       "752  NaN\n",
       "\n",
       "[752 rows x 1 columns]"
      ]
     },
     "execution_count": 14,
     "metadata": {},
     "output_type": "execute_result"
    }
   ],
   "source": [
    "c=0\n",
    "d=data.iloc[1:,2:3]\n",
    "d"
   ]
  },
  {
   "cell_type": "code",
   "execution_count": 15,
   "id": "82607ebc-4727-45f2-ad40-e8f4998d7abd",
   "metadata": {},
   "outputs": [
    {
     "data": {
      "text/plain": [
       "nan"
      ]
     },
     "execution_count": 15,
     "metadata": {},
     "output_type": "execute_result"
    }
   ],
   "source": [
    "stock_ema=d.iloc[c,0] #first stock in ema\n",
    "stock_ema"
   ]
  },
  {
   "cell_type": "code",
   "execution_count": 39,
   "id": "6367bd76-f3ab-4738-a41b-9eea493d0726",
   "metadata": {},
   "outputs": [
    {
     "data": {
      "text/plain": [
       "'2S'"
      ]
     },
     "execution_count": 39,
     "metadata": {},
     "output_type": "execute_result"
    }
   ],
   "source": [
    "end = datetime.today()\n",
    "duration= timedelta(days=365)\n",
    "start=now-duration\n",
    "y"
   ]
  },
  {
   "cell_type": "code",
   "execution_count": 37,
   "id": "cc880fc3-8905-48fa-b445-610e6cd90cbf",
   "metadata": {},
   "outputs": [
    {
     "data": {
      "text/html": [
       "<div>\n",
       "<style scoped>\n",
       "    .dataframe tbody tr th:only-of-type {\n",
       "        vertical-align: middle;\n",
       "    }\n",
       "\n",
       "    .dataframe tbody tr th {\n",
       "        vertical-align: top;\n",
       "    }\n",
       "\n",
       "    .dataframe thead th {\n",
       "        text-align: right;\n",
       "    }\n",
       "</style>\n",
       "<table border=\"1\" class=\"dataframe\">\n",
       "  <thead>\n",
       "    <tr style=\"text-align: right;\">\n",
       "      <th></th>\n",
       "      <th>High</th>\n",
       "      <th>Low</th>\n",
       "      <th>Open</th>\n",
       "      <th>Close</th>\n",
       "      <th>Volume</th>\n",
       "      <th>Adj Close</th>\n",
       "    </tr>\n",
       "    <tr>\n",
       "      <th>Date</th>\n",
       "      <th></th>\n",
       "      <th></th>\n",
       "      <th></th>\n",
       "      <th></th>\n",
       "      <th></th>\n",
       "      <th></th>\n",
       "    </tr>\n",
       "  </thead>\n",
       "  <tbody>\n",
       "    <tr>\n",
       "      <th>2020-07-20</th>\n",
       "      <td>2.484</td>\n",
       "      <td>2.412</td>\n",
       "      <td>2.484</td>\n",
       "      <td>2.430</td>\n",
       "      <td>350777.0</td>\n",
       "      <td>2.326154</td>\n",
       "    </tr>\n",
       "    <tr>\n",
       "      <th>2020-07-21</th>\n",
       "      <td>2.466</td>\n",
       "      <td>2.430</td>\n",
       "      <td>2.430</td>\n",
       "      <td>2.448</td>\n",
       "      <td>267888.0</td>\n",
       "      <td>2.343385</td>\n",
       "    </tr>\n",
       "    <tr>\n",
       "      <th>2020-07-22</th>\n",
       "      <td>2.502</td>\n",
       "      <td>2.376</td>\n",
       "      <td>2.502</td>\n",
       "      <td>2.412</td>\n",
       "      <td>302222.0</td>\n",
       "      <td>2.308923</td>\n",
       "    </tr>\n",
       "    <tr>\n",
       "      <th>2020-07-23</th>\n",
       "      <td>2.448</td>\n",
       "      <td>2.394</td>\n",
       "      <td>2.412</td>\n",
       "      <td>2.412</td>\n",
       "      <td>151555.0</td>\n",
       "      <td>2.308923</td>\n",
       "    </tr>\n",
       "    <tr>\n",
       "      <th>2020-07-24</th>\n",
       "      <td>2.412</td>\n",
       "      <td>2.394</td>\n",
       "      <td>2.412</td>\n",
       "      <td>2.394</td>\n",
       "      <td>231111.0</td>\n",
       "      <td>2.291692</td>\n",
       "    </tr>\n",
       "    <tr>\n",
       "      <th>...</th>\n",
       "      <td>...</td>\n",
       "      <td>...</td>\n",
       "      <td>...</td>\n",
       "      <td>...</td>\n",
       "      <td>...</td>\n",
       "      <td>...</td>\n",
       "    </tr>\n",
       "    <tr>\n",
       "      <th>2021-07-14</th>\n",
       "      <td>5.700</td>\n",
       "      <td>5.600</td>\n",
       "      <td>5.600</td>\n",
       "      <td>5.700</td>\n",
       "      <td>224600.0</td>\n",
       "      <td>5.700000</td>\n",
       "    </tr>\n",
       "    <tr>\n",
       "      <th>2021-07-15</th>\n",
       "      <td>5.800</td>\n",
       "      <td>5.700</td>\n",
       "      <td>5.700</td>\n",
       "      <td>5.800</td>\n",
       "      <td>232400.0</td>\n",
       "      <td>5.800000</td>\n",
       "    </tr>\n",
       "    <tr>\n",
       "      <th>2021-07-16</th>\n",
       "      <td>5.850</td>\n",
       "      <td>5.700</td>\n",
       "      <td>5.850</td>\n",
       "      <td>5.850</td>\n",
       "      <td>230200.0</td>\n",
       "      <td>5.850000</td>\n",
       "    </tr>\n",
       "    <tr>\n",
       "      <th>2021-07-19</th>\n",
       "      <td>5.800</td>\n",
       "      <td>5.650</td>\n",
       "      <td>5.650</td>\n",
       "      <td>5.700</td>\n",
       "      <td>318000.0</td>\n",
       "      <td>5.700000</td>\n",
       "    </tr>\n",
       "    <tr>\n",
       "      <th>2021-07-20</th>\n",
       "      <td>5.800</td>\n",
       "      <td>5.650</td>\n",
       "      <td>5.750</td>\n",
       "      <td>5.700</td>\n",
       "      <td>146100.0</td>\n",
       "      <td>5.700000</td>\n",
       "    </tr>\n",
       "  </tbody>\n",
       "</table>\n",
       "<p>236 rows × 6 columns</p>\n",
       "</div>"
      ],
      "text/plain": [
       "             High    Low   Open  Close    Volume  Adj Close\n",
       "Date                                                       \n",
       "2020-07-20  2.484  2.412  2.484  2.430  350777.0   2.326154\n",
       "2020-07-21  2.466  2.430  2.430  2.448  267888.0   2.343385\n",
       "2020-07-22  2.502  2.376  2.502  2.412  302222.0   2.308923\n",
       "2020-07-23  2.448  2.394  2.412  2.412  151555.0   2.308923\n",
       "2020-07-24  2.412  2.394  2.412  2.394  231111.0   2.291692\n",
       "...           ...    ...    ...    ...       ...        ...\n",
       "2021-07-14  5.700  5.600  5.600  5.700  224600.0   5.700000\n",
       "2021-07-15  5.800  5.700  5.700  5.800  232400.0   5.800000\n",
       "2021-07-16  5.850  5.700  5.850  5.850  230200.0   5.850000\n",
       "2021-07-19  5.800  5.650  5.650  5.700  318000.0   5.700000\n",
       "2021-07-20  5.800  5.650  5.750  5.700  146100.0   5.700000\n",
       "\n",
       "[236 rows x 6 columns]"
      ]
     },
     "execution_count": 37,
     "metadata": {},
     "output_type": "execute_result"
    }
   ],
   "source": [
    "df = web.DataReader(y+\".BK\", 'yahoo', start, end)\n",
    "df"
   ]
  },
  {
   "cell_type": "code",
   "execution_count": 38,
   "id": "dfdc2330-3544-4a7e-9e47-66163f472890",
   "metadata": {},
   "outputs": [
    {
     "data": {
      "text/html": [
       "<div>\n",
       "<style scoped>\n",
       "    .dataframe tbody tr th:only-of-type {\n",
       "        vertical-align: middle;\n",
       "    }\n",
       "\n",
       "    .dataframe tbody tr th {\n",
       "        vertical-align: top;\n",
       "    }\n",
       "\n",
       "    .dataframe thead th {\n",
       "        text-align: right;\n",
       "    }\n",
       "</style>\n",
       "<table border=\"1\" class=\"dataframe\">\n",
       "  <thead>\n",
       "    <tr style=\"text-align: right;\">\n",
       "      <th></th>\n",
       "      <th>Close</th>\n",
       "    </tr>\n",
       "    <tr>\n",
       "      <th>Date</th>\n",
       "      <th></th>\n",
       "    </tr>\n",
       "  </thead>\n",
       "  <tbody>\n",
       "    <tr>\n",
       "      <th>2020-07-20</th>\n",
       "      <td>2.430</td>\n",
       "    </tr>\n",
       "    <tr>\n",
       "      <th>2020-07-21</th>\n",
       "      <td>2.448</td>\n",
       "    </tr>\n",
       "    <tr>\n",
       "      <th>2020-07-22</th>\n",
       "      <td>2.412</td>\n",
       "    </tr>\n",
       "    <tr>\n",
       "      <th>2020-07-23</th>\n",
       "      <td>2.412</td>\n",
       "    </tr>\n",
       "    <tr>\n",
       "      <th>2020-07-24</th>\n",
       "      <td>2.394</td>\n",
       "    </tr>\n",
       "    <tr>\n",
       "      <th>...</th>\n",
       "      <td>...</td>\n",
       "    </tr>\n",
       "    <tr>\n",
       "      <th>2021-07-14</th>\n",
       "      <td>5.700</td>\n",
       "    </tr>\n",
       "    <tr>\n",
       "      <th>2021-07-15</th>\n",
       "      <td>5.800</td>\n",
       "    </tr>\n",
       "    <tr>\n",
       "      <th>2021-07-16</th>\n",
       "      <td>5.850</td>\n",
       "    </tr>\n",
       "    <tr>\n",
       "      <th>2021-07-19</th>\n",
       "      <td>5.700</td>\n",
       "    </tr>\n",
       "    <tr>\n",
       "      <th>2021-07-20</th>\n",
       "      <td>5.700</td>\n",
       "    </tr>\n",
       "  </tbody>\n",
       "</table>\n",
       "<p>236 rows × 1 columns</p>\n",
       "</div>"
      ],
      "text/plain": [
       "            Close\n",
       "Date             \n",
       "2020-07-20  2.430\n",
       "2020-07-21  2.448\n",
       "2020-07-22  2.412\n",
       "2020-07-23  2.412\n",
       "2020-07-24  2.394\n",
       "...           ...\n",
       "2021-07-14  5.700\n",
       "2021-07-15  5.800\n",
       "2021-07-16  5.850\n",
       "2021-07-19  5.700\n",
       "2021-07-20  5.700\n",
       "\n",
       "[236 rows x 1 columns]"
      ]
     },
     "execution_count": 38,
     "metadata": {},
     "output_type": "execute_result"
    }
   ],
   "source": [
    "close_array=df.iloc[0:,3:-2]\n",
    "close_array"
   ]
  },
  {
   "cell_type": "code",
   "execution_count": 19,
   "id": "0b020641-eb22-406e-92bb-cc01b4fbb1e4",
   "metadata": {},
   "outputs": [],
   "source": [
    "#df.to_csv('stock_prices_volumes.csv')"
   ]
  },
  {
   "cell_type": "code",
   "execution_count": 20,
   "id": "158a00ae-d95e-4333-a86b-41cd5f3e35d6",
   "metadata": {},
   "outputs": [],
   "source": [
    "#close_array1=close_array.values.ravel()\n",
    "#close_array1"
   ]
  },
  {
   "cell_type": "code",
   "execution_count": 21,
   "id": "6ef0c3a9-0e1a-4391-897f-aea7fdda35e4",
   "metadata": {},
   "outputs": [],
   "source": [
    "close_array['EMA'] = talib.EMA(close_array['Close'], timeperiod =20)"
   ]
  },
  {
   "cell_type": "code",
   "execution_count": 22,
   "id": "cdc69a4f-da3c-4c2b-8de2-bd6481d5ad14",
   "metadata": {},
   "outputs": [
    {
     "data": {
      "text/html": [
       "<div>\n",
       "<style scoped>\n",
       "    .dataframe tbody tr th:only-of-type {\n",
       "        vertical-align: middle;\n",
       "    }\n",
       "\n",
       "    .dataframe tbody tr th {\n",
       "        vertical-align: top;\n",
       "    }\n",
       "\n",
       "    .dataframe thead th {\n",
       "        text-align: right;\n",
       "    }\n",
       "</style>\n",
       "<table border=\"1\" class=\"dataframe\">\n",
       "  <thead>\n",
       "    <tr style=\"text-align: right;\">\n",
       "      <th></th>\n",
       "      <th>Close</th>\n",
       "      <th>EMA</th>\n",
       "    </tr>\n",
       "    <tr>\n",
       "      <th>Date</th>\n",
       "      <th></th>\n",
       "      <th></th>\n",
       "    </tr>\n",
       "  </thead>\n",
       "  <tbody>\n",
       "    <tr>\n",
       "      <th>2020-07-20</th>\n",
       "      <td>2.430</td>\n",
       "      <td>NaN</td>\n",
       "    </tr>\n",
       "    <tr>\n",
       "      <th>2020-07-21</th>\n",
       "      <td>2.448</td>\n",
       "      <td>NaN</td>\n",
       "    </tr>\n",
       "    <tr>\n",
       "      <th>2020-07-22</th>\n",
       "      <td>2.412</td>\n",
       "      <td>NaN</td>\n",
       "    </tr>\n",
       "    <tr>\n",
       "      <th>2020-07-23</th>\n",
       "      <td>2.412</td>\n",
       "      <td>NaN</td>\n",
       "    </tr>\n",
       "    <tr>\n",
       "      <th>2020-07-24</th>\n",
       "      <td>2.394</td>\n",
       "      <td>NaN</td>\n",
       "    </tr>\n",
       "    <tr>\n",
       "      <th>...</th>\n",
       "      <td>...</td>\n",
       "      <td>...</td>\n",
       "    </tr>\n",
       "    <tr>\n",
       "      <th>2021-07-13</th>\n",
       "      <td>5.650</td>\n",
       "      <td>5.778293</td>\n",
       "    </tr>\n",
       "    <tr>\n",
       "      <th>2021-07-14</th>\n",
       "      <td>5.700</td>\n",
       "      <td>5.770837</td>\n",
       "    </tr>\n",
       "    <tr>\n",
       "      <th>2021-07-15</th>\n",
       "      <td>5.800</td>\n",
       "      <td>5.773614</td>\n",
       "    </tr>\n",
       "    <tr>\n",
       "      <th>2021-07-16</th>\n",
       "      <td>5.850</td>\n",
       "      <td>5.780889</td>\n",
       "    </tr>\n",
       "    <tr>\n",
       "      <th>2021-07-19</th>\n",
       "      <td>5.700</td>\n",
       "      <td>5.773185</td>\n",
       "    </tr>\n",
       "  </tbody>\n",
       "</table>\n",
       "<p>239 rows × 2 columns</p>\n",
       "</div>"
      ],
      "text/plain": [
       "            Close       EMA\n",
       "Date                       \n",
       "2020-07-20  2.430       NaN\n",
       "2020-07-21  2.448       NaN\n",
       "2020-07-22  2.412       NaN\n",
       "2020-07-23  2.412       NaN\n",
       "2020-07-24  2.394       NaN\n",
       "...           ...       ...\n",
       "2021-07-13  5.650  5.778293\n",
       "2021-07-14  5.700  5.770837\n",
       "2021-07-15  5.800  5.773614\n",
       "2021-07-16  5.850  5.780889\n",
       "2021-07-19  5.700  5.773185\n",
       "\n",
       "[239 rows x 2 columns]"
      ]
     },
     "execution_count": 22,
     "metadata": {},
     "output_type": "execute_result"
    }
   ],
   "source": [
    "close_array"
   ]
  },
  {
   "cell_type": "code",
   "execution_count": 35,
   "id": "2f2c6927-b720-459f-8243-26f42934bb24",
   "metadata": {},
   "outputs": [
    {
     "data": {
      "text/plain": [
       "5.699999809265137"
      ]
     },
     "execution_count": 35,
     "metadata": {},
     "output_type": "execute_result"
    }
   ],
   "source": [
    "close_data = close_array.iloc[-1,0]\n",
    "close_data"
   ]
  },
  {
   "cell_type": "code",
   "execution_count": 24,
   "id": "c8839af2-b96e-4ae7-82e2-7d54ce025eb6",
   "metadata": {},
   "outputs": [
    {
     "data": {
      "text/plain": [
       "5.773185342501607"
      ]
     },
     "execution_count": 24,
     "metadata": {},
     "output_type": "execute_result"
    }
   ],
   "source": [
    "ema_data0 =close_array.iloc[-1,1]\n",
    "ema_data0"
   ]
  },
  {
   "cell_type": "code",
   "execution_count": 25,
   "id": "176f1dd9-19ab-4fdf-9847-3410247a0e09",
   "metadata": {},
   "outputs": [],
   "source": [
    "#emadata50"
   ]
  },
  {
   "cell_type": "code",
   "execution_count": 26,
   "id": "7534e635-db2c-4644-b573-9eac439ba649",
   "metadata": {},
   "outputs": [],
   "source": [
    "close_array['EMA'] = talib.EMA(close_array['Close'], timeperiod =50)"
   ]
  },
  {
   "cell_type": "code",
   "execution_count": 27,
   "id": "e7031b4c-6943-458a-892a-8ce1a05b79d9",
   "metadata": {},
   "outputs": [
    {
     "data": {
      "text/html": [
       "<div>\n",
       "<style scoped>\n",
       "    .dataframe tbody tr th:only-of-type {\n",
       "        vertical-align: middle;\n",
       "    }\n",
       "\n",
       "    .dataframe tbody tr th {\n",
       "        vertical-align: top;\n",
       "    }\n",
       "\n",
       "    .dataframe thead th {\n",
       "        text-align: right;\n",
       "    }\n",
       "</style>\n",
       "<table border=\"1\" class=\"dataframe\">\n",
       "  <thead>\n",
       "    <tr style=\"text-align: right;\">\n",
       "      <th></th>\n",
       "      <th>Close</th>\n",
       "      <th>EMA</th>\n",
       "    </tr>\n",
       "    <tr>\n",
       "      <th>Date</th>\n",
       "      <th></th>\n",
       "      <th></th>\n",
       "    </tr>\n",
       "  </thead>\n",
       "  <tbody>\n",
       "    <tr>\n",
       "      <th>2020-07-20</th>\n",
       "      <td>2.430</td>\n",
       "      <td>NaN</td>\n",
       "    </tr>\n",
       "    <tr>\n",
       "      <th>2020-07-21</th>\n",
       "      <td>2.448</td>\n",
       "      <td>NaN</td>\n",
       "    </tr>\n",
       "    <tr>\n",
       "      <th>2020-07-22</th>\n",
       "      <td>2.412</td>\n",
       "      <td>NaN</td>\n",
       "    </tr>\n",
       "    <tr>\n",
       "      <th>2020-07-23</th>\n",
       "      <td>2.412</td>\n",
       "      <td>NaN</td>\n",
       "    </tr>\n",
       "    <tr>\n",
       "      <th>2020-07-24</th>\n",
       "      <td>2.394</td>\n",
       "      <td>NaN</td>\n",
       "    </tr>\n",
       "    <tr>\n",
       "      <th>...</th>\n",
       "      <td>...</td>\n",
       "      <td>...</td>\n",
       "    </tr>\n",
       "    <tr>\n",
       "      <th>2021-07-13</th>\n",
       "      <td>5.650</td>\n",
       "      <td>5.739148</td>\n",
       "    </tr>\n",
       "    <tr>\n",
       "      <th>2021-07-14</th>\n",
       "      <td>5.700</td>\n",
       "      <td>5.737613</td>\n",
       "    </tr>\n",
       "    <tr>\n",
       "      <th>2021-07-15</th>\n",
       "      <td>5.800</td>\n",
       "      <td>5.740059</td>\n",
       "    </tr>\n",
       "    <tr>\n",
       "      <th>2021-07-16</th>\n",
       "      <td>5.850</td>\n",
       "      <td>5.744371</td>\n",
       "    </tr>\n",
       "    <tr>\n",
       "      <th>2021-07-19</th>\n",
       "      <td>5.700</td>\n",
       "      <td>5.742631</td>\n",
       "    </tr>\n",
       "  </tbody>\n",
       "</table>\n",
       "<p>239 rows × 2 columns</p>\n",
       "</div>"
      ],
      "text/plain": [
       "            Close       EMA\n",
       "Date                       \n",
       "2020-07-20  2.430       NaN\n",
       "2020-07-21  2.448       NaN\n",
       "2020-07-22  2.412       NaN\n",
       "2020-07-23  2.412       NaN\n",
       "2020-07-24  2.394       NaN\n",
       "...           ...       ...\n",
       "2021-07-13  5.650  5.739148\n",
       "2021-07-14  5.700  5.737613\n",
       "2021-07-15  5.800  5.740059\n",
       "2021-07-16  5.850  5.744371\n",
       "2021-07-19  5.700  5.742631\n",
       "\n",
       "[239 rows x 2 columns]"
      ]
     },
     "execution_count": 27,
     "metadata": {},
     "output_type": "execute_result"
    }
   ],
   "source": [
    "close_array"
   ]
  },
  {
   "cell_type": "code",
   "execution_count": 28,
   "id": "8fb3d898-18e7-4cf2-9468-106aa8be33f6",
   "metadata": {},
   "outputs": [
    {
     "data": {
      "text/plain": [
       "5.7426308073541295"
      ]
     },
     "execution_count": 28,
     "metadata": {},
     "output_type": "execute_result"
    }
   ],
   "source": [
    "ema_data1 =close_array.iloc[-1,1]\n",
    "ema_data1"
   ]
  },
  {
   "cell_type": "code",
   "execution_count": 29,
   "id": "923baeee-76eb-469e-bbd1-5c9998dcc44b",
   "metadata": {},
   "outputs": [
    {
     "data": {
      "text/html": [
       "<div>\n",
       "<style scoped>\n",
       "    .dataframe tbody tr th:only-of-type {\n",
       "        vertical-align: middle;\n",
       "    }\n",
       "\n",
       "    .dataframe tbody tr th {\n",
       "        vertical-align: top;\n",
       "    }\n",
       "\n",
       "    .dataframe thead th {\n",
       "        text-align: right;\n",
       "    }\n",
       "</style>\n",
       "<table border=\"1\" class=\"dataframe\">\n",
       "  <thead>\n",
       "    <tr style=\"text-align: right;\">\n",
       "      <th></th>\n",
       "      <th>Close</th>\n",
       "      <th>EMA</th>\n",
       "    </tr>\n",
       "    <tr>\n",
       "      <th>Date</th>\n",
       "      <th></th>\n",
       "      <th></th>\n",
       "    </tr>\n",
       "  </thead>\n",
       "  <tbody>\n",
       "    <tr>\n",
       "      <th>2020-07-20</th>\n",
       "      <td>2.430</td>\n",
       "      <td>NaN</td>\n",
       "    </tr>\n",
       "    <tr>\n",
       "      <th>2020-07-21</th>\n",
       "      <td>2.448</td>\n",
       "      <td>NaN</td>\n",
       "    </tr>\n",
       "    <tr>\n",
       "      <th>2020-07-22</th>\n",
       "      <td>2.412</td>\n",
       "      <td>NaN</td>\n",
       "    </tr>\n",
       "    <tr>\n",
       "      <th>2020-07-23</th>\n",
       "      <td>2.412</td>\n",
       "      <td>NaN</td>\n",
       "    </tr>\n",
       "    <tr>\n",
       "      <th>2020-07-24</th>\n",
       "      <td>2.394</td>\n",
       "      <td>NaN</td>\n",
       "    </tr>\n",
       "    <tr>\n",
       "      <th>...</th>\n",
       "      <td>...</td>\n",
       "      <td>...</td>\n",
       "    </tr>\n",
       "    <tr>\n",
       "      <th>2021-07-13</th>\n",
       "      <td>5.650</td>\n",
       "      <td>4.446960</td>\n",
       "    </tr>\n",
       "    <tr>\n",
       "      <th>2021-07-14</th>\n",
       "      <td>5.700</td>\n",
       "      <td>4.459428</td>\n",
       "    </tr>\n",
       "    <tr>\n",
       "      <th>2021-07-15</th>\n",
       "      <td>5.800</td>\n",
       "      <td>4.472767</td>\n",
       "    </tr>\n",
       "    <tr>\n",
       "      <th>2021-07-16</th>\n",
       "      <td>5.850</td>\n",
       "      <td>4.486471</td>\n",
       "    </tr>\n",
       "    <tr>\n",
       "      <th>2021-07-19</th>\n",
       "      <td>5.700</td>\n",
       "      <td>4.498546</td>\n",
       "    </tr>\n",
       "  </tbody>\n",
       "</table>\n",
       "<p>239 rows × 2 columns</p>\n",
       "</div>"
      ],
      "text/plain": [
       "            Close       EMA\n",
       "Date                       \n",
       "2020-07-20  2.430       NaN\n",
       "2020-07-21  2.448       NaN\n",
       "2020-07-22  2.412       NaN\n",
       "2020-07-23  2.412       NaN\n",
       "2020-07-24  2.394       NaN\n",
       "...           ...       ...\n",
       "2021-07-13  5.650  4.446960\n",
       "2021-07-14  5.700  4.459428\n",
       "2021-07-15  5.800  4.472767\n",
       "2021-07-16  5.850  4.486471\n",
       "2021-07-19  5.700  4.498546\n",
       "\n",
       "[239 rows x 2 columns]"
      ]
     },
     "execution_count": 29,
     "metadata": {},
     "output_type": "execute_result"
    }
   ],
   "source": [
    "close_array['EMA'] = talib.EMA(close_array['Close'], timeperiod =200)\n",
    "close_array"
   ]
  },
  {
   "cell_type": "code",
   "execution_count": 30,
   "id": "93711ccd-472a-41dc-9fbd-3793fc8d96b4",
   "metadata": {},
   "outputs": [
    {
     "data": {
      "text/plain": [
       "4.498546009836144"
      ]
     },
     "execution_count": 30,
     "metadata": {},
     "output_type": "execute_result"
    }
   ],
   "source": [
    "ema_data2 =close_array.iloc[-1,1]\n",
    "ema_data2"
   ]
  },
  {
   "cell_type": "code",
   "execution_count": 31,
   "id": "8a415aae-ed6e-4a41-bc14-218416617901",
   "metadata": {},
   "outputs": [],
   "source": [
    "#filter check rsi and ema"
   ]
  },
  {
   "cell_type": "code",
   "execution_count": 32,
   "id": "6f420910-45d9-4486-9336-6ce29d565b84",
   "metadata": {},
   "outputs": [],
   "source": [
    "#check close ema > close ema (timeperiod)"
   ]
  },
  {
   "cell_type": "code",
   "execution_count": 33,
   "id": "e490eafd-12a8-40bc-98cf-e6a72d62b32e",
   "metadata": {},
   "outputs": [
    {
     "ename": "SyntaxError",
     "evalue": "invalid syntax (<ipython-input-33-c8dd07fb2a5f>, line 1)",
     "output_type": "error",
     "traceback": [
      "\u001b[1;36m  File \u001b[1;32m\"<ipython-input-33-c8dd07fb2a5f>\"\u001b[1;36m, line \u001b[1;32m1\u001b[0m\n\u001b[1;33m    if close_data>\u001b[0m\n\u001b[1;37m                  ^\u001b[0m\n\u001b[1;31mSyntaxError\u001b[0m\u001b[1;31m:\u001b[0m invalid syntax\n"
     ]
    }
   ],
   "source": [
    "if close_data>"
   ]
  },
  {
   "cell_type": "code",
   "execution_count": null,
   "id": "9882f1b2-8f15-4a92-907d-fb695b2d2827",
   "metadata": {},
   "outputs": [],
   "source": []
  }
 ],
 "metadata": {
  "kernelspec": {
   "display_name": "Python 3",
   "language": "python",
   "name": "python3"
  },
  "language_info": {
   "codemirror_mode": {
    "name": "ipython",
    "version": 3
   },
   "file_extension": ".py",
   "mimetype": "text/x-python",
   "name": "python",
   "nbconvert_exporter": "python",
   "pygments_lexer": "ipython3",
   "version": "3.8.8"
  }
 },
 "nbformat": 4,
 "nbformat_minor": 5
}
