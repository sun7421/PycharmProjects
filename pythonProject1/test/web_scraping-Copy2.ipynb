{
 "cells": [
  {
   "cell_type": "code",
   "execution_count": 12,
   "id": "5e6206c4-0a5b-43d1-b96b-43724c4b92bb",
   "metadata": {},
   "outputs": [],
   "source": [
    "import requests\n",
    "from bs4 import BeautifulSoup\n",
    "i_page = 0\n",
    "url = f'http://203.157.10.8/hcode_2014/query_list.php?pageNum_rsList={i_page}'\n",
    "source = requests.get(url)\n",
    "soup = BeautifulSoup(source.content, 'lxml', from_encoding='utf-8')"
   ]
  },
  {
   "cell_type": "code",
   "execution_count": 13,
   "id": "6a38037c-e0c9-481d-b99c-9f3201bb856e",
   "metadata": {},
   "outputs": [
    {
     "ename": "AttributeError",
     "evalue": "'NoneType' object has no attribute 'prettify'",
     "output_type": "error",
     "traceback": [
      "\u001b[1;31m-----------------------------------------------\u001b[0m",
      "\u001b[1;31mAttributeError\u001b[0mTraceback (most recent call last)",
      "\u001b[1;32m<ipython-input-13-e7fd716eb3cb>\u001b[0m in \u001b[0;36m<module>\u001b[1;34m\u001b[0m\n\u001b[0;32m      1\u001b[0m \u001b[0mdiv\u001b[0m \u001b[1;33m=\u001b[0m \u001b[0msoup\u001b[0m\u001b[1;33m.\u001b[0m\u001b[0mfind\u001b[0m\u001b[1;33m(\u001b[0m\u001b[1;34m'div'\u001b[0m\u001b[1;33m,\u001b[0m \u001b[0mid\u001b[0m\u001b[1;33m=\u001b[0m\u001b[1;34m'content'\u001b[0m\u001b[1;33m)\u001b[0m\u001b[1;33m\u001b[0m\u001b[1;33m\u001b[0m\u001b[0m\n\u001b[1;32m----> 2\u001b[1;33m \u001b[0mprint\u001b[0m\u001b[1;33m(\u001b[0m\u001b[0mdiv\u001b[0m\u001b[1;33m.\u001b[0m\u001b[0mprettify\u001b[0m\u001b[1;33m(\u001b[0m\u001b[1;33m)\u001b[0m\u001b[1;33m)\u001b[0m\u001b[1;33m\u001b[0m\u001b[1;33m\u001b[0m\u001b[0m\n\u001b[0m",
      "\u001b[1;31mAttributeError\u001b[0m: 'NoneType' object has no attribute 'prettify'"
     ]
    }
   ],
   "source": [
    "div = soup.find('div', id='content')\n",
    "print(div.prettify())"
   ]
  },
  {
   "cell_type": "code",
   "execution_count": null,
   "id": "c364cfca-4625-4c7d-83af-8fcd5e3bb9d5",
   "metadata": {},
   "outputs": [],
   "source": [
    "table = div.find('table', class_='tdlg')"
   ]
  },
  {
   "cell_type": "code",
   "execution_count": 1,
   "id": "0bf7c7e8-6bff-4310-aece-c255f584c889",
   "metadata": {},
   "outputs": [
    {
     "ename": "NameError",
     "evalue": "name 'div' is not defined",
     "output_type": "error",
     "traceback": [
      "\u001b[1;31m-----------------------------------------------\u001b[0m",
      "\u001b[1;31mNameError\u001b[0m     Traceback (most recent call last)",
      "\u001b[1;32m<ipython-input-1-d50f471f85f1>\u001b[0m in \u001b[0;36m<module>\u001b[1;34m\u001b[0m\n\u001b[1;32m----> 1\u001b[1;33m \u001b[0mtable\u001b[0m \u001b[1;33m=\u001b[0m \u001b[0mdiv\u001b[0m\u001b[1;33m.\u001b[0m\u001b[0mfind\u001b[0m\u001b[1;33m(\u001b[0m\u001b[1;34m'table'\u001b[0m\u001b[1;33m,\u001b[0m \u001b[0mclass_\u001b[0m\u001b[1;33m=\u001b[0m\u001b[1;34m'tdlg'\u001b[0m\u001b[1;33m)\u001b[0m\u001b[1;33m\u001b[0m\u001b[1;33m\u001b[0m\u001b[0m\n\u001b[0m",
      "\u001b[1;31mNameError\u001b[0m: name 'div' is not defined"
     ]
    }
   ],
   "source": []
  },
  {
   "cell_type": "code",
   "execution_count": 49,
   "id": "12e2b497-ec8d-4fa9-8e22-b98f58cac50f",
   "metadata": {},
   "outputs": [],
   "source": [
    "div_data1= div_data.find('div', id='content_body')"
   ]
  },
  {
   "cell_type": "code",
   "execution_count": 50,
   "id": "71205ff0-f029-44d9-a7d7-14c97a12e120",
   "metadata": {},
   "outputs": [],
   "source": [
    "div_data2 = div_data1.find('div')"
   ]
  },
  {
   "cell_type": "code",
   "execution_count": 53,
   "id": "e6e87334-9a9d-4502-b1a7-adc890ffd844",
   "metadata": {},
   "outputs": [],
   "source": [
    "div_data3 = div_data2.find('div',id='table_data')"
   ]
  },
  {
   "cell_type": "code",
   "execution_count": 59,
   "id": "79624351-0316-4986-ba07-f56aee6069e3",
   "metadata": {},
   "outputs": [
    {
     "name": "stdout",
     "output_type": "stream",
     "text": [
      "finish\n"
     ]
    }
   ],
   "source": [
    "div_data3\n",
    "print (\"finish\")"
   ]
  },
  {
   "cell_type": "code",
   "execution_count": null,
   "id": "7c5fe9d1-d82a-4b7a-bcf2-3ad164202ddb",
   "metadata": {},
   "outputs": [],
   "source": []
  }
 ],
 "metadata": {
  "kernelspec": {
   "display_name": "Python 3",
   "language": "python",
   "name": "python3"
  },
  "language_info": {
   "codemirror_mode": {
    "name": "ipython",
    "version": 3
   },
   "file_extension": ".py",
   "mimetype": "text/x-python",
   "name": "python",
   "nbconvert_exporter": "python",
   "pygments_lexer": "ipython3",
   "version": "3.8.8"
  }
 },
 "nbformat": 4,
 "nbformat_minor": 5
}
